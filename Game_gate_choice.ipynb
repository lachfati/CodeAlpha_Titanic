{
 "cells": [
  {
   "cell_type": "code",
   "execution_count": 8,
   "id": "9b46e3d9-d835-4272-ab00-c93a575b9761",
   "metadata": {},
   "outputs": [],
   "source": [
    "import numpy as np\n",
    "import pandas as pd\n",
    "import matplotlib.pyplot as plt\n",
    "import seaborn as sns\n",
    "from scipy.stats import chi2_contingency\n"
   ]
  },
  {
   "cell_type": "code",
   "execution_count": 3,
   "id": "55b55cf0-6570-480f-ad2a-751ec25c4f28",
   "metadata": {},
   "outputs": [
    {
     "data": {
      "text/html": [
       "<div>\n",
       "<style scoped>\n",
       "    .dataframe tbody tr th:only-of-type {\n",
       "        vertical-align: middle;\n",
       "    }\n",
       "\n",
       "    .dataframe tbody tr th {\n",
       "        vertical-align: top;\n",
       "    }\n",
       "\n",
       "    .dataframe thead th {\n",
       "        text-align: right;\n",
       "    }\n",
       "</style>\n",
       "<table border=\"1\" class=\"dataframe\">\n",
       "  <thead>\n",
       "    <tr style=\"text-align: right;\">\n",
       "      <th></th>\n",
       "      <th>userid</th>\n",
       "      <th>version</th>\n",
       "      <th>sum_gamerounds</th>\n",
       "      <th>retention_1</th>\n",
       "      <th>retention_7</th>\n",
       "    </tr>\n",
       "  </thead>\n",
       "  <tbody>\n",
       "    <tr>\n",
       "      <th>0</th>\n",
       "      <td>116</td>\n",
       "      <td>gate_30</td>\n",
       "      <td>3</td>\n",
       "      <td>False</td>\n",
       "      <td>False</td>\n",
       "    </tr>\n",
       "    <tr>\n",
       "      <th>1</th>\n",
       "      <td>337</td>\n",
       "      <td>gate_30</td>\n",
       "      <td>38</td>\n",
       "      <td>True</td>\n",
       "      <td>False</td>\n",
       "    </tr>\n",
       "    <tr>\n",
       "      <th>2</th>\n",
       "      <td>377</td>\n",
       "      <td>gate_40</td>\n",
       "      <td>165</td>\n",
       "      <td>True</td>\n",
       "      <td>False</td>\n",
       "    </tr>\n",
       "    <tr>\n",
       "      <th>3</th>\n",
       "      <td>483</td>\n",
       "      <td>gate_40</td>\n",
       "      <td>1</td>\n",
       "      <td>False</td>\n",
       "      <td>False</td>\n",
       "    </tr>\n",
       "    <tr>\n",
       "      <th>4</th>\n",
       "      <td>488</td>\n",
       "      <td>gate_40</td>\n",
       "      <td>179</td>\n",
       "      <td>True</td>\n",
       "      <td>True</td>\n",
       "    </tr>\n",
       "  </tbody>\n",
       "</table>\n",
       "</div>"
      ],
      "text/plain": [
       "   userid  version  sum_gamerounds  retention_1  retention_7\n",
       "0     116  gate_30               3        False        False\n",
       "1     337  gate_30              38         True        False\n",
       "2     377  gate_40             165         True        False\n",
       "3     483  gate_40               1        False        False\n",
       "4     488  gate_40             179         True         True"
      ]
     },
     "execution_count": 3,
     "metadata": {},
     "output_type": "execute_result"
    }
   ],
   "source": [
    "df = pd.read_csv(\"cookie_cats.csv\")\n",
    "df.head()"
   ]
  },
  {
   "cell_type": "markdown",
   "id": "c13bec1f-8298-4479-8ee2-95ff6e9dd49a",
   "metadata": {},
   "source": [
    "###"
   ]
  },
  {
   "cell_type": "markdown",
   "id": "d8113ad5-a317-4b28-a20e-9e837d9908cd",
   "metadata": {},
   "source": [
    "### Understand and Prepare Data\n",
    "userid: Unique identifier for each user.\r\n",
    "version: The group the user belongs to (gate_30 or gate_40).\r\n",
    "sum_gamerounds: Total game rounds played by the user after the gate was introduced.\r\n",
    "retention_1: Whether the user came back and played the game 1 day after installation.\r\n",
    "retention_7: Whether the user came back and played the game 7 days after installation."
   ]
  },
  {
   "cell_type": "markdown",
   "id": "ac98b121-c1fe-482a-b899-0781ea193b35",
   "metadata": {},
   "source": [
    "## Data Analysis"
   ]
  },
  {
   "cell_type": "code",
   "execution_count": 7,
   "id": "79d94923-4c6a-4000-80e9-dc1ba7ef322b",
   "metadata": {},
   "outputs": [
    {
     "name": "stdout",
     "output_type": "stream",
     "text": [
      "1-Day Retention for gate_30: 44.82%\n",
      "1-Day Retention for gate_40: 44.23%\n",
      "7-Day Retention for gate_30: 19.02%\n",
      "7-Day Retention for gate_40: 18.20%\n"
     ]
    }
   ],
   "source": [
    "# Calculate retention rates for each group\n",
    "group_a = df[df['version'] == 'gate_30']\n",
    "group_b = df[df['version'] == 'gate_40']\n",
    "retention_1_day_a = group_a['retention_1'].mean()\n",
    "retention_1_day_b = group_b['retention_1'].mean()\n",
    "retention_7_days_a = group_a['retention_7'].mean()\n",
    "retention_7_days_b = group_b['retention_7'].mean()\n",
    "\n",
    "print(f\"1-Day Retention for gate_30: {retention_1_day_a:.2%}\")\n",
    "print(f\"1-Day Retention for gate_40: {retention_1_day_b:.2%}\")\n",
    "print(f\"7-Day Retention for gate_30: {retention_7_days_a:.2%}\")\n",
    "print(f\"7-Day Retention for gate_40: {retention_7_days_b:.2%}\")"
   ]
  },
  {
   "cell_type": "code",
   "execution_count": 6,
   "id": "7ab595e3-5118-45d8-90ca-5a26611c6d1a",
   "metadata": {},
   "outputs": [
    {
     "data": {
      "text/html": [
       "<div>\n",
       "<style scoped>\n",
       "    .dataframe tbody tr th:only-of-type {\n",
       "        vertical-align: middle;\n",
       "    }\n",
       "\n",
       "    .dataframe tbody tr th {\n",
       "        vertical-align: top;\n",
       "    }\n",
       "\n",
       "    .dataframe thead th {\n",
       "        text-align: right;\n",
       "    }\n",
       "</style>\n",
       "<table border=\"1\" class=\"dataframe\">\n",
       "  <thead>\n",
       "    <tr style=\"text-align: right;\">\n",
       "      <th></th>\n",
       "      <th>userid</th>\n",
       "      <th>version</th>\n",
       "      <th>sum_gamerounds</th>\n",
       "      <th>retention_1</th>\n",
       "      <th>retention_7</th>\n",
       "    </tr>\n",
       "  </thead>\n",
       "  <tbody>\n",
       "    <tr>\n",
       "      <th>0</th>\n",
       "      <td>116</td>\n",
       "      <td>gate_30</td>\n",
       "      <td>3</td>\n",
       "      <td>False</td>\n",
       "      <td>False</td>\n",
       "    </tr>\n",
       "    <tr>\n",
       "      <th>1</th>\n",
       "      <td>337</td>\n",
       "      <td>gate_30</td>\n",
       "      <td>38</td>\n",
       "      <td>True</td>\n",
       "      <td>False</td>\n",
       "    </tr>\n",
       "    <tr>\n",
       "      <th>6</th>\n",
       "      <td>1066</td>\n",
       "      <td>gate_30</td>\n",
       "      <td>0</td>\n",
       "      <td>False</td>\n",
       "      <td>False</td>\n",
       "    </tr>\n",
       "    <tr>\n",
       "      <th>11</th>\n",
       "      <td>2101</td>\n",
       "      <td>gate_30</td>\n",
       "      <td>0</td>\n",
       "      <td>False</td>\n",
       "      <td>False</td>\n",
       "    </tr>\n",
       "    <tr>\n",
       "      <th>13</th>\n",
       "      <td>2179</td>\n",
       "      <td>gate_30</td>\n",
       "      <td>39</td>\n",
       "      <td>True</td>\n",
       "      <td>False</td>\n",
       "    </tr>\n",
       "    <tr>\n",
       "      <th>...</th>\n",
       "      <td>...</td>\n",
       "      <td>...</td>\n",
       "      <td>...</td>\n",
       "      <td>...</td>\n",
       "      <td>...</td>\n",
       "    </tr>\n",
       "    <tr>\n",
       "      <th>90179</th>\n",
       "      <td>9998576</td>\n",
       "      <td>gate_30</td>\n",
       "      <td>14</td>\n",
       "      <td>True</td>\n",
       "      <td>False</td>\n",
       "    </tr>\n",
       "    <tr>\n",
       "      <th>90180</th>\n",
       "      <td>9998623</td>\n",
       "      <td>gate_30</td>\n",
       "      <td>7</td>\n",
       "      <td>False</td>\n",
       "      <td>False</td>\n",
       "    </tr>\n",
       "    <tr>\n",
       "      <th>90182</th>\n",
       "      <td>9999178</td>\n",
       "      <td>gate_30</td>\n",
       "      <td>21</td>\n",
       "      <td>True</td>\n",
       "      <td>False</td>\n",
       "    </tr>\n",
       "    <tr>\n",
       "      <th>90183</th>\n",
       "      <td>9999349</td>\n",
       "      <td>gate_30</td>\n",
       "      <td>10</td>\n",
       "      <td>False</td>\n",
       "      <td>False</td>\n",
       "    </tr>\n",
       "    <tr>\n",
       "      <th>90186</th>\n",
       "      <td>9999710</td>\n",
       "      <td>gate_30</td>\n",
       "      <td>28</td>\n",
       "      <td>True</td>\n",
       "      <td>False</td>\n",
       "    </tr>\n",
       "  </tbody>\n",
       "</table>\n",
       "<p>44700 rows × 5 columns</p>\n",
       "</div>"
      ],
      "text/plain": [
       "        userid  version  sum_gamerounds  retention_1  retention_7\n",
       "0          116  gate_30               3        False        False\n",
       "1          337  gate_30              38         True        False\n",
       "6         1066  gate_30               0        False        False\n",
       "11        2101  gate_30               0        False        False\n",
       "13        2179  gate_30              39         True        False\n",
       "...        ...      ...             ...          ...          ...\n",
       "90179  9998576  gate_30              14         True        False\n",
       "90180  9998623  gate_30               7        False        False\n",
       "90182  9999178  gate_30              21         True        False\n",
       "90183  9999349  gate_30              10        False        False\n",
       "90186  9999710  gate_30              28         True        False\n",
       "\n",
       "[44700 rows x 5 columns]"
      ]
     },
     "execution_count": 6,
     "metadata": {},
     "output_type": "execute_result"
    }
   ],
   "source": [
    "group_a"
   ]
  },
  {
   "cell_type": "markdown",
   "id": "c8585c45-6326-4457-9615-faed968bcf07",
   "metadata": {},
   "source": [
    "##  Statistical Testing"
   ]
  },
  {
   "cell_type": "code",
   "execution_count": 9,
   "id": "611ec677-64df-41da-8797-89b5e617af2f",
   "metadata": {},
   "outputs": [
    {
     "name": "stdout",
     "output_type": "stream",
     "text": [
      "Chi-squared test result for 1-day retention: p-value = 0.076\n",
      "Chi-squared test result for 7-day retention: p-value = 0.002\n"
     ]
    }
   ],
   "source": [
    "# Create a contingency table for retention on day 1\n",
    "contingency_table_1 = [\n",
    "    [group_a['retention_1'].sum(), len(group_a) - group_a['retention_1'].sum()],\n",
    "    [group_b['retention_1'].sum(), len(group_b) - group_b['retention_1'].sum()]\n",
    "]\n",
    "contingency_table_7 = [\n",
    "    [group_a['retention_7'].sum(), len(group_a) - group_a['retention_7'].sum()],\n",
    "    [group_b['retention_7'].sum(), len(group_b) - group_b['retention_7'].sum()]\n",
    "]\n",
    "# Perform the Chi-squared test\n",
    "chi1, p_value1, _, _ = chi2_contingency(contingency_table_1)\n",
    "chi7, p_value7, _, _ = chi2_contingency(contingency_table_7)\n",
    "\n",
    "\n",
    "print(f\"Chi-squared test result for 1-day retention: p-value = {p_value1:.3f}\")\n",
    "print(f\"Chi-squared test result for 7-day retention: p-value = {p_value7:.3f}\")\n"
   ]
  },
  {
   "cell_type": "markdown",
   "id": "54f31015-9d9c-4f9d-aa68-626436ee5d16",
   "metadata": {},
   "source": [
    "## analysing the result :\n",
    "#### Retention at 1 Day (p-value = 0.076):\n",
    "The p-value greater than 0.05 suggests that there is no statistically significant difference between groups for retention at 1 day. This implies that changing the level of the door does not affect the probability of players returning the next day.\n",
    "\n",
    "#### Retention at 7 Day (p-value = 0.002):\n",
    "A p-value well below 0.05 indicates a statistically significant difference in 7-day retention between the two groups. This suggests that gate location has a significant impact on player retention over a longer period of time.."
   ]
  },
  {
   "cell_type": "markdown",
   "id": "6be38047-8ff3-46a1-9fb9-8b999d92b575",
   "metadata": {},
   "source": [
    "## Actionable Insights\n",
    "#### 1. Optimize Door Positioning for Long-Term Retention\n",
    "Since the results show a significant impact of gate location on 7-day retention, you should consider adopting the location that promoted better retention as standard in your game. If, for example, gate_40 shows better retention than gate_30, it would be wise to place the gate at level 40 in all instances of the game to promote better user retention.\n",
    "\n",
    "#### 2. Reconsider Changes for 1-Day Retention\n",
    "Since no significant differences were observed for 1-day retention, it is possible that door location did not affect players' decisions to return the next day. You might consider other factors that might influence short-term retention, such as initial rewards, tutorials, initial game engagement, or changes in the difficulty of initial levels."
   ]
  }
 ],
 "metadata": {
  "kernelspec": {
   "display_name": "Python 3 (ipykernel)",
   "language": "python",
   "name": "python3"
  },
  "language_info": {
   "codemirror_mode": {
    "name": "ipython",
    "version": 3
   },
   "file_extension": ".py",
   "mimetype": "text/x-python",
   "name": "python",
   "nbconvert_exporter": "python",
   "pygments_lexer": "ipython3",
   "version": "3.11.7"
  }
 },
 "nbformat": 4,
 "nbformat_minor": 5
}
